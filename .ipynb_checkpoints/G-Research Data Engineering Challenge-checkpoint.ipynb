{
 "cells": [
  {
   "cell_type": "markdown",
   "id": "8f9b54d3",
   "metadata": {},
   "source": [
    "# G-Research Data Engineering Challenge"
   ]
  },
  {
   "cell_type": "code",
   "execution_count": 32,
   "id": "d0058184",
   "metadata": {},
   "outputs": [],
   "source": [
    "import pandas as pd\n",
    "import matplotlib.pyplot as plt\n",
    "plt.rcParams['figure.figsize'] = [15, 9]"
   ]
  },
  {
   "cell_type": "markdown",
   "id": "8cd4e4bb",
   "metadata": {},
   "source": [
    "The dataset you'll be working with is a subset of our Kaggle G-Research Crypto Forecasting Challenge: https://www.kaggle.com/c/g-research-crypto-forecasting, where teams worked totgether to predict prices to win $125,000!"
   ]
  },
  {
   "cell_type": "markdown",
   "id": "a9bd3298",
   "metadata": {},
   "source": [
    "Here we won't be trying to predict crypto prices, but we'll be trying to visualise this data and try and pull out interesting information from this dataset."
   ]
  },
  {
   "cell_type": "markdown",
   "id": "93463cca",
   "metadata": {},
   "source": [
    "## 1. Intro to Pandas\n",
    "First, we'll go through some basics with Pandas. If you don't know Python, and would rather do this in a language you're comfortable in, or use Excel, you can skip to Section 2"
   ]
  },
  {
   "cell_type": "markdown",
   "id": "b4eab299",
   "metadata": {},
   "source": [
    "In Pandas, we mainly work with dataframes. A Pandas dataframe is the equivalent of an Excel spreadsheet. Pandas dataframes — just like Excel spreadsheets — have 2 dimensions or axes."
   ]
  },
  {
   "cell_type": "markdown",
   "id": "bdd3b4ca",
   "metadata": {},
   "source": [
    "A dataframe has rows and columns (also known as series). On top of a dataframe, you will see the name of the columns and on the left side, there’s the index. For now, we'll ignore this, and simply think of it as a way to access a row\n",
    "\n",
    "The intersection of a row and a column is called a data value or simply data. We can store different types of data such as integers, strings, boolean, and so on."
   ]
  },
  {
   "cell_type": "markdown",
   "id": "d64b4889",
   "metadata": {},
   "source": [
    "### Creating a a dataframe\n",
    "\n",
    "The first thing we'll demonstrate is how to create a dataframe. For this we can load data from our data files. In our data files, we have a file containing information about London Underground and other lines. The following line, opens this file into Python, and stores the dataframe in a variable called `df`"
   ]
  },
  {
   "cell_type": "code",
   "execution_count": 15,
   "id": "8c744c09",
   "metadata": {},
   "outputs": [],
   "source": [
    "df = pd.read_csv('data/tubes.csv')"
   ]
  },
  {
   "cell_type": "markdown",
   "id": "09de21a7",
   "metadata": {},
   "source": [
    "If we simply type `df` then Jupyter will display to us a nice table with the data in the Dataframe.\n",
    "Unfortunately, it is not as flexible as Excel, where you can interact with the tabele with a mouse "
   ]
  },
  {
   "cell_type": "code",
   "execution_count": 16,
   "id": "ecce00fa",
   "metadata": {},
   "outputs": [
    {
     "data": {
      "text/html": [
       "<div>\n",
       "<style scoped>\n",
       "    .dataframe tbody tr th:only-of-type {\n",
       "        vertical-align: middle;\n",
       "    }\n",
       "\n",
       "    .dataframe tbody tr th {\n",
       "        vertical-align: top;\n",
       "    }\n",
       "\n",
       "    .dataframe thead th {\n",
       "        text-align: right;\n",
       "    }\n",
       "</style>\n",
       "<table border=\"1\" class=\"dataframe\">\n",
       "  <thead>\n",
       "    <tr style=\"text-align: right;\">\n",
       "      <th></th>\n",
       "      <th>Line</th>\n",
       "      <th>Opening Year</th>\n",
       "      <th>No Of Stations</th>\n",
       "    </tr>\n",
       "  </thead>\n",
       "  <tbody>\n",
       "    <tr>\n",
       "      <th>0</th>\n",
       "      <td>Bakerloo</td>\n",
       "      <td>1906</td>\n",
       "      <td>25</td>\n",
       "    </tr>\n",
       "    <tr>\n",
       "      <th>1</th>\n",
       "      <td>Central</td>\n",
       "      <td>1900</td>\n",
       "      <td>49</td>\n",
       "    </tr>\n",
       "    <tr>\n",
       "      <th>2</th>\n",
       "      <td>Circle</td>\n",
       "      <td>1871</td>\n",
       "      <td>36</td>\n",
       "    </tr>\n",
       "    <tr>\n",
       "      <th>3</th>\n",
       "      <td>District</td>\n",
       "      <td>1868</td>\n",
       "      <td>60</td>\n",
       "    </tr>\n",
       "    <tr>\n",
       "      <th>4</th>\n",
       "      <td>Hammersmith &amp; City</td>\n",
       "      <td>1864</td>\n",
       "      <td>29</td>\n",
       "    </tr>\n",
       "    <tr>\n",
       "      <th>5</th>\n",
       "      <td>Jubilee</td>\n",
       "      <td>1979</td>\n",
       "      <td>27</td>\n",
       "    </tr>\n",
       "    <tr>\n",
       "      <th>6</th>\n",
       "      <td>Metropolitan</td>\n",
       "      <td>1863</td>\n",
       "      <td>34</td>\n",
       "    </tr>\n",
       "    <tr>\n",
       "      <th>7</th>\n",
       "      <td>Northern</td>\n",
       "      <td>1890</td>\n",
       "      <td>52</td>\n",
       "    </tr>\n",
       "    <tr>\n",
       "      <th>8</th>\n",
       "      <td>Piccadilly</td>\n",
       "      <td>1906</td>\n",
       "      <td>53</td>\n",
       "    </tr>\n",
       "    <tr>\n",
       "      <th>9</th>\n",
       "      <td>Victoria</td>\n",
       "      <td>1968</td>\n",
       "      <td>16</td>\n",
       "    </tr>\n",
       "    <tr>\n",
       "      <th>10</th>\n",
       "      <td>Waterloo&amp;City</td>\n",
       "      <td>1898</td>\n",
       "      <td>2</td>\n",
       "    </tr>\n",
       "    <tr>\n",
       "      <th>11</th>\n",
       "      <td>Elizabeth</td>\n",
       "      <td>2022</td>\n",
       "      <td>41</td>\n",
       "    </tr>\n",
       "    <tr>\n",
       "      <th>12</th>\n",
       "      <td>Docklands Light Railway</td>\n",
       "      <td>1987</td>\n",
       "      <td>45</td>\n",
       "    </tr>\n",
       "    <tr>\n",
       "      <th>13</th>\n",
       "      <td>London Overground</td>\n",
       "      <td>2007</td>\n",
       "      <td>113</td>\n",
       "    </tr>\n",
       "  </tbody>\n",
       "</table>\n",
       "</div>"
      ],
      "text/plain": [
       "                       Line  Opening Year  No Of Stations\n",
       "0                  Bakerloo          1906              25\n",
       "1                   Central          1900              49\n",
       "2                    Circle          1871              36\n",
       "3                  District          1868              60\n",
       "4        Hammersmith & City          1864              29\n",
       "5                   Jubilee          1979              27\n",
       "6              Metropolitan          1863              34\n",
       "7                  Northern          1890              52\n",
       "8                Piccadilly          1906              53\n",
       "9                  Victoria          1968              16\n",
       "10            Waterloo&City          1898               2\n",
       "11                Elizabeth          2022              41\n",
       "12  Docklands Light Railway          1987              45\n",
       "13        London Overground          2007             113"
      ]
     },
     "execution_count": 16,
     "metadata": {},
     "output_type": "execute_result"
    }
   ],
   "source": [
    "df"
   ]
  },
  {
   "cell_type": "markdown",
   "id": "d7f63168",
   "metadata": {},
   "source": [
    "hf.hist()"
   ]
  },
  {
   "cell_type": "markdown",
   "id": "aca3b099",
   "metadata": {},
   "source": [
    "Another powerful feature of pandas is graphing. For example, `DataFrame.hist` lets you quickly study the distribution of values in a column:"
   ]
  },
  {
   "cell_type": "code",
   "execution_count": 17,
   "id": "81455a89",
   "metadata": {},
   "outputs": [
    {
     "data": {
      "text/plain": [
       "array([[<AxesSubplot:title={'center':'No Of Stations'}>]], dtype=object)"
      ]
     },
     "execution_count": 17,
     "metadata": {},
     "output_type": "execute_result"
    },
    {
     "data": {
      "image/png": "[encoded data removed]",
      "text/plain": [
       "<Figure size 432x288 with 1 Axes>"
      ]
     },
     "metadata": {
      "needs_background": "light"
     },
     "output_type": "display_data"
    }
   ],
   "source": [
    "df.hist('No Of Stations')"
   ]
  },
  {
   "cell_type": "markdown",
   "id": "684b99bb",
   "metadata": {},
   "source": [
    "### Accessing Data\n",
    "You can access DataFrame data using familiar Python dict/list operations.\n",
    "\n",
    "The following row, shows you how to specify a specific column."
   ]
  },
  {
   "cell_type": "code",
   "execution_count": 18,
   "id": "71690c7d",
   "metadata": {},
   "outputs": [
    {
     "data": {
      "text/plain": [
       "0     1906\n",
       "1     1900\n",
       "2     1871\n",
       "3     1868\n",
       "4     1864\n",
       "5     1979\n",
       "6     1863\n",
       "7     1890\n",
       "8     1906\n",
       "9     1968\n",
       "10    1898\n",
       "11    2022\n",
       "12    1987\n",
       "13    2007\n",
       "Name: Opening Year, dtype: int64"
      ]
     },
     "execution_count": 18,
     "metadata": {},
     "output_type": "execute_result"
    }
   ],
   "source": [
    "df['Opening Year']"
   ]
  },
  {
   "cell_type": "markdown",
   "id": "64172f7a",
   "metadata": {},
   "source": [
    "You can also specify a specific row, as shown below.\n",
    "\n",
    "`df.loc[]` tells pandas to give you the row at a specific index. "
   ]
  },
  {
   "cell_type": "code",
   "execution_count": 20,
   "id": "c9b0b073",
   "metadata": {},
   "outputs": [
    {
     "data": {
      "text/plain": [
       "Line              Bakerloo\n",
       "Opening Year          1906\n",
       "No Of Stations          25\n",
       "Name: 0, dtype: object"
      ]
     },
     "execution_count": 20,
     "metadata": {},
     "output_type": "execute_result"
    }
   ],
   "source": [
    "df.loc[0]"
   ]
  },
  {
   "cell_type": "markdown",
   "id": "50ae0c09",
   "metadata": {},
   "source": [
    "Unfortunately, this requires you to know specific row number for each row, so we won't use this much.\n",
    "\n",
    "If we go back to columns, we can answer a lot of fun questions.\n",
    "\n",
    "\n",
    "e.g. What is the most number of stations a line has in London?"
   ]
  },
  {
   "cell_type": "code",
   "execution_count": 39,
   "id": "1abc5f76",
   "metadata": {},
   "outputs": [
    {
     "data": {
      "text/plain": [
       "113"
      ]
     },
     "execution_count": 39,
     "metadata": {},
     "output_type": "execute_result"
    }
   ],
   "source": [
    "df['No Of Stations'].max()"
   ]
  },
  {
   "cell_type": "markdown",
   "id": "e55abb9b",
   "metadata": {},
   "source": [
    "Or, what is the average number of stations a line in London has?"
   ]
  },
  {
   "cell_type": "code",
   "execution_count": 40,
   "id": "c175055f",
   "metadata": {},
   "outputs": [
    {
     "data": {
      "text/plain": [
       "41.57142857142857"
      ]
     },
     "execution_count": 40,
     "metadata": {},
     "output_type": "execute_result"
    }
   ],
   "source": [
    "df['No Of Stations'].mean()"
   ]
  },
  {
   "cell_type": "markdown",
   "id": "85bf673b",
   "metadata": {},
   "source": [
    "Or, what are the counts of unique line names?"
   ]
  },
  {
   "cell_type": "code",
   "execution_count": 41,
   "id": "e97dcc9a",
   "metadata": {},
   "outputs": [
    {
     "data": {
      "text/plain": [
       "Bakerloo                   1\n",
       "Central                    1\n",
       "Circle                     1\n",
       "District                   1\n",
       "Hammersmith & City         1\n",
       "Jubilee                    1\n",
       "Metropolitan               1\n",
       "Northern                   1\n",
       "Piccadilly                 1\n",
       "Victoria                   1\n",
       "Waterloo&City              1\n",
       "Elizabeth                  1\n",
       "Docklands Light Railway    1\n",
       "London Overground          1\n",
       "Name: Line, dtype: int64"
      ]
     },
     "execution_count": 41,
     "metadata": {},
     "output_type": "execute_result"
    }
   ],
   "source": [
    "df['Line'].value_counts()"
   ]
  },
  {
   "cell_type": "markdown",
   "id": "40626cf9",
   "metadata": {},
   "source": [
    "Okay, that one was a bit obvious, but it will be useful for later"
   ]
  },
  {
   "cell_type": "markdown",
   "id": "5af733a6",
   "metadata": {},
   "source": [
    "### Filtering Data\n",
    "\n",
    "Let's say we wanted to get all of the tube lines which opened since 2000.\n",
    "In Excel, you could use a filter. Here, we have to say this in code.\n",
    "\n",
    "Pandas has a weird syntax for specifiying a filter.\n",
    "\n",
    "```\n",
    "    df[\n",
    "        (expression)\n",
    "    ]\n",
    "```\n",
    "\n",
    "The `(expression)` part has to be logical expression.\n",
    "e.g. A > 0, or A == \"Hello\", or even (A/5)*100 < 2\n",
    "\n",
    "Where A is a column.\n",
    "\n",
    "*Note: while A is a column, this expression will be applied to all rows*\n",
    "\n",
    "E.g. if we wanted to get all of the tube lines which opened since 2000. We'd write\n",
    "```\n",
    "    df[\n",
    "        df['Opening Year'] > 2000\n",
    "    ]\n",
    "```\n",
    "\n",
    "\n",
    "To make it more obvious, we'll split this code over two lines\n",
    "\n"
   ]
  },
  {
   "cell_type": "code",
   "execution_count": 22,
   "id": "af4d34de",
   "metadata": {},
   "outputs": [
    {
     "data": {
      "text/html": [
       "<div>\n",
       "<style scoped>\n",
       "    .dataframe tbody tr th:only-of-type {\n",
       "        vertical-align: middle;\n",
       "    }\n",
       "\n",
       "    .dataframe tbody tr th {\n",
       "        vertical-align: top;\n",
       "    }\n",
       "\n",
       "    .dataframe thead th {\n",
       "        text-align: right;\n",
       "    }\n",
       "</style>\n",
       "<table border=\"1\" class=\"dataframe\">\n",
       "  <thead>\n",
       "    <tr style=\"text-align: right;\">\n",
       "      <th></th>\n",
       "      <th>Line</th>\n",
       "      <th>Opening Year</th>\n",
       "      <th>No Of Stations</th>\n",
       "    </tr>\n",
       "  </thead>\n",
       "  <tbody>\n",
       "    <tr>\n",
       "      <th>11</th>\n",
       "      <td>Elizabeth</td>\n",
       "      <td>2022</td>\n",
       "      <td>41</td>\n",
       "    </tr>\n",
       "    <tr>\n",
       "      <th>13</th>\n",
       "      <td>London Overground</td>\n",
       "      <td>2007</td>\n",
       "      <td>113</td>\n",
       "    </tr>\n",
       "  </tbody>\n",
       "</table>\n",
       "</div>"
      ],
      "text/plain": [
       "                 Line  Opening Year  No Of Stations\n",
       "11          Elizabeth          2022              41\n",
       "13  London Overground          2007             113"
      ]
     },
     "execution_count": 22,
     "metadata": {},
     "output_type": "execute_result"
    }
   ],
   "source": [
    "df[\n",
    "    df['Opening Year'] > 2000\n",
    "]"
   ]
  },
  {
   "cell_type": "markdown",
   "id": "7d1203a5",
   "metadata": {},
   "source": [
    "Or by number of stations"
   ]
  },
  {
   "cell_type": "code",
   "execution_count": 23,
   "id": "3068de3b",
   "metadata": {},
   "outputs": [
    {
     "data": {
      "text/html": [
       "<div>\n",
       "<style scoped>\n",
       "    .dataframe tbody tr th:only-of-type {\n",
       "        vertical-align: middle;\n",
       "    }\n",
       "\n",
       "    .dataframe tbody tr th {\n",
       "        vertical-align: top;\n",
       "    }\n",
       "\n",
       "    .dataframe thead th {\n",
       "        text-align: right;\n",
       "    }\n",
       "</style>\n",
       "<table border=\"1\" class=\"dataframe\">\n",
       "  <thead>\n",
       "    <tr style=\"text-align: right;\">\n",
       "      <th></th>\n",
       "      <th>Line</th>\n",
       "      <th>Opening Year</th>\n",
       "      <th>No Of Stations</th>\n",
       "    </tr>\n",
       "  </thead>\n",
       "  <tbody>\n",
       "    <tr>\n",
       "      <th>9</th>\n",
       "      <td>Victoria</td>\n",
       "      <td>1968</td>\n",
       "      <td>16</td>\n",
       "    </tr>\n",
       "    <tr>\n",
       "      <th>10</th>\n",
       "      <td>Waterloo&amp;City</td>\n",
       "      <td>1898</td>\n",
       "      <td>2</td>\n",
       "    </tr>\n",
       "  </tbody>\n",
       "</table>\n",
       "</div>"
      ],
      "text/plain": [
       "             Line  Opening Year  No Of Stations\n",
       "9        Victoria          1968              16\n",
       "10  Waterloo&City          1898               2"
      ]
     },
     "execution_count": 23,
     "metadata": {},
     "output_type": "execute_result"
    }
   ],
   "source": [
    "df[\n",
    "    df['No Of Stations'] < 20\n",
    "]"
   ]
  },
  {
   "cell_type": "markdown",
   "id": "91ada0e5",
   "metadata": {},
   "source": [
    "Or even lines with the word \"city\" in them "
   ]
  },
  {
   "cell_type": "code",
   "execution_count": 24,
   "id": "12e33737",
   "metadata": {},
   "outputs": [
    {
     "data": {
      "text/html": [
       "<div>\n",
       "<style scoped>\n",
       "    .dataframe tbody tr th:only-of-type {\n",
       "        vertical-align: middle;\n",
       "    }\n",
       "\n",
       "    .dataframe tbody tr th {\n",
       "        vertical-align: top;\n",
       "    }\n",
       "\n",
       "    .dataframe thead th {\n",
       "        text-align: right;\n",
       "    }\n",
       "</style>\n",
       "<table border=\"1\" class=\"dataframe\">\n",
       "  <thead>\n",
       "    <tr style=\"text-align: right;\">\n",
       "      <th></th>\n",
       "      <th>Line</th>\n",
       "      <th>Opening Year</th>\n",
       "      <th>No Of Stations</th>\n",
       "    </tr>\n",
       "  </thead>\n",
       "  <tbody>\n",
       "    <tr>\n",
       "      <th>4</th>\n",
       "      <td>Hammersmith &amp; City</td>\n",
       "      <td>1864</td>\n",
       "      <td>29</td>\n",
       "    </tr>\n",
       "    <tr>\n",
       "      <th>10</th>\n",
       "      <td>Waterloo&amp;City</td>\n",
       "      <td>1898</td>\n",
       "      <td>2</td>\n",
       "    </tr>\n",
       "  </tbody>\n",
       "</table>\n",
       "</div>"
      ],
      "text/plain": [
       "                  Line  Opening Year  No Of Stations\n",
       "4   Hammersmith & City          1864              29\n",
       "10       Waterloo&City          1898               2"
      ]
     },
     "execution_count": 24,
     "metadata": {},
     "output_type": "execute_result"
    }
   ],
   "source": [
    "df[\n",
    "    df['Line'].str.contains('City')\n",
    "]"
   ]
  },
  {
   "cell_type": "markdown",
   "id": "44bac03a",
   "metadata": {},
   "source": [
    "We can also assign this filtered data to another variable if we want it later"
   ]
  },
  {
   "cell_type": "code",
   "execution_count": 45,
   "id": "bd27f7ac",
   "metadata": {},
   "outputs": [],
   "source": [
    "cityLines = df[\n",
    "    df['Line'].str.contains('City')\n",
    "]"
   ]
  },
  {
   "cell_type": "code",
   "execution_count": 46,
   "id": "849c410b",
   "metadata": {},
   "outputs": [
    {
     "data": {
      "text/html": [
       "<div>\n",
       "<style scoped>\n",
       "    .dataframe tbody tr th:only-of-type {\n",
       "        vertical-align: middle;\n",
       "    }\n",
       "\n",
       "    .dataframe tbody tr th {\n",
       "        vertical-align: top;\n",
       "    }\n",
       "\n",
       "    .dataframe thead th {\n",
       "        text-align: right;\n",
       "    }\n",
       "</style>\n",
       "<table border=\"1\" class=\"dataframe\">\n",
       "  <thead>\n",
       "    <tr style=\"text-align: right;\">\n",
       "      <th></th>\n",
       "      <th>Line</th>\n",
       "      <th>Opening Year</th>\n",
       "      <th>No Of Stations</th>\n",
       "    </tr>\n",
       "  </thead>\n",
       "  <tbody>\n",
       "    <tr>\n",
       "      <th>4</th>\n",
       "      <td>Hammersmith &amp; City</td>\n",
       "      <td>1864</td>\n",
       "      <td>29</td>\n",
       "    </tr>\n",
       "    <tr>\n",
       "      <th>10</th>\n",
       "      <td>Waterloo&amp;City</td>\n",
       "      <td>1898</td>\n",
       "      <td>2</td>\n",
       "    </tr>\n",
       "  </tbody>\n",
       "</table>\n",
       "</div>"
      ],
      "text/plain": [
       "                  Line  Opening Year  No Of Stations\n",
       "4   Hammersmith & City          1864              29\n",
       "10       Waterloo&City          1898               2"
      ]
     },
     "execution_count": 46,
     "metadata": {},
     "output_type": "execute_result"
    }
   ],
   "source": [
    "cityLines"
   ]
  },
  {
   "cell_type": "markdown",
   "id": "a085fb7b",
   "metadata": {},
   "source": [
    "## Graphing Data\n",
    "\n",
    "Pandas allows you to generate simple graphs with the `.plot` function.\n",
    "By default, \n",
    "\n",
    "You can specify what x and y axis you want by giving column names"
   ]
  },
  {
   "cell_type": "code",
   "execution_count": 34,
   "id": "651c6b42",
   "metadata": {},
   "outputs": [
    {
     "data": {
      "text/plain": [
       "<AxesSubplot:xlabel='Line'>"
      ]
     },
     "execution_count": 34,
     "metadata": {},
     "output_type": "execute_result"
    },
    {
     "data": {
      "image/png": "[encoded data removed]",
      "text/plain": [
       "<Figure size 1080x648 with 1 Axes>"
      ]
     },
     "metadata": {
      "needs_background": "light"
     },
     "output_type": "display_data"
    }
   ],
   "source": [
    "df.plot(x=\"Line\", y=\"No Of Stations\")"
   ]
  },
  {
   "cell_type": "markdown",
   "id": "d94fcb7b",
   "metadata": {},
   "source": [
    "This looks wrong, we should be using a bar chart instead, since there's not a relationship between the lines.\n",
    "\n",
    "\n",
    "We can add `kind='bar'` to the code"
   ]
  },
  {
   "cell_type": "code",
   "execution_count": 35,
   "id": "7ef4ad05",
   "metadata": {},
   "outputs": [
    {
     "data": {
      "text/plain": [
       "<AxesSubplot:xlabel='Line'>"
      ]
     },
     "execution_count": 35,
     "metadata": {},
     "output_type": "execute_result"
    },
    {
     "data": {
      "image/png": "[encoded data removed]",
      "text/plain": [
       "<Figure size 1080x648 with 1 Axes>"
      ]
     },
     "metadata": {
      "needs_background": "light"
     },
     "output_type": "display_data"
    }
   ],
   "source": [
    "df.plot(kind='bar', x=\"Line\", y=\"No Of Stations\")"
   ]
  },
  {
   "cell_type": "markdown",
   "id": "d6b40c3b",
   "metadata": {},
   "source": [
    "The `kind` parameter accepts eleven different string values and determines which kind of plot you’ll create:\n",
    "\n",
    "1. \"area\" is for area plots.\n",
    "2. \"bar\" is for vertical bar charts.\n",
    "3. \"barh\" is for horizontal bar charts.\n",
    "4. \"box\" is for box plots.\n",
    "5. \"hexbin\" is for hexbin plots.\n",
    "6. \"hist\" is for histograms.\n",
    "7. \"kde\" is for kernel density estimate charts.\n",
    "8. \"density\" is an alias for \"kde\".\n",
    "9. \"line\" is for line graphs.\n",
    "10. \"pie\" is for pie charts.\n",
    "11. \"scatter\" is for scatter plots.\n",
    "\n",
    "Let's try `barh` to flip this graph"
   ]
  },
  {
   "cell_type": "code",
   "execution_count": 36,
   "id": "b5d5ee28",
   "metadata": {},
   "outputs": [
    {
     "data": {
      "text/plain": [
       "<AxesSubplot:ylabel='Line'>"
      ]
     },
     "execution_count": 36,
     "metadata": {},
     "output_type": "execute_result"
    },
    {
     "data": {
      "image/png": "[encoded data removed]",
      "text/plain": [
       "<Figure size 1080x648 with 1 Axes>"
      ]
     },
     "metadata": {
      "needs_background": "light"
     },
     "output_type": "display_data"
    }
   ],
   "source": [
    "df.plot(kind='barh', x=\"Line\", y=\"No Of Stations\")"
   ]
  },
  {
   "cell_type": "markdown",
   "id": "bfba0e2d",
   "metadata": {},
   "source": [
    "## 2. Practice\n",
    "\n",
    "If you're not completely lost by the above, let's see if you can use pandas (or Excel to answer the following questions).\n",
    "This is obviously a very small dataset, however the crypto data is much larger and you won't be able to easily do it by eye, so getting some practice of the tools will be very useful.\n",
    "\n",
    "\n",
    "\n",
    "Questions\n",
    "1. Which line is the oldest?\n",
    "\n",
    "2. Excluding London Underground, what line has the most number of stations? \n",
    "\n",
    "3. Show a graph of the age of each tube line\n",
    "\n",
    "3. Extension (change the graph above, with the stations of tube, into different colours)\n",
    "You will have to look online for help with this, you can start here:\n",
    "https://pandas.pydata.org/docs/dev/reference/api/pandas.DataFrame.plot.html"
   ]
  },
  {
   "cell_type": "markdown",
   "id": "70e408ed",
   "metadata": {},
   "source": [
    "## 3. Crypto Data\n",
    "\n",
    "Now the main task for your week is to analyse, produce graphs, interesting facts etc. from our crypto dataset."
   ]
  },
  {
   "cell_type": "code",
   "execution_count": 43,
   "id": "1aa7350f",
   "metadata": {},
   "outputs": [],
   "source": [
    "df2 = pd.read_csv('data/crypto.csv')"
   ]
  },
  {
   "cell_type": "code",
   "execution_count": 48,
   "id": "ace07e8b",
   "metadata": {},
   "outputs": [
    {
     "data": {
      "text/html": [
       "<div>\n",
       "<style scoped>\n",
       "    .dataframe tbody tr th:only-of-type {\n",
       "        vertical-align: middle;\n",
       "    }\n",
       "\n",
       "    .dataframe tbody tr th {\n",
       "        vertical-align: top;\n",
       "    }\n",
       "\n",
       "    .dataframe thead th {\n",
       "        text-align: right;\n",
       "    }\n",
       "</style>\n",
       "<table border=\"1\" class=\"dataframe\">\n",
       "  <thead>\n",
       "    <tr style=\"text-align: right;\">\n",
       "      <th></th>\n",
       "      <th>Asset_Name</th>\n",
       "      <th>timestamp</th>\n",
       "      <th>Close</th>\n",
       "    </tr>\n",
       "  </thead>\n",
       "  <tbody>\n",
       "    <tr>\n",
       "      <th>0</th>\n",
       "      <td>Bitcoin Cash</td>\n",
       "      <td>2018-01-01</td>\n",
       "      <td>2374.5900</td>\n",
       "    </tr>\n",
       "    <tr>\n",
       "      <th>1</th>\n",
       "      <td>Bitcoin Cash</td>\n",
       "      <td>2018-01-02</td>\n",
       "      <td>2323.3200</td>\n",
       "    </tr>\n",
       "    <tr>\n",
       "      <th>2</th>\n",
       "      <td>Bitcoin Cash</td>\n",
       "      <td>2018-01-03</td>\n",
       "      <td>2551.2850</td>\n",
       "    </tr>\n",
       "    <tr>\n",
       "      <th>3</th>\n",
       "      <td>Bitcoin Cash</td>\n",
       "      <td>2018-01-04</td>\n",
       "      <td>2557.6467</td>\n",
       "    </tr>\n",
       "    <tr>\n",
       "      <th>4</th>\n",
       "      <td>Bitcoin Cash</td>\n",
       "      <td>2018-01-05</td>\n",
       "      <td>2354.4433</td>\n",
       "    </tr>\n",
       "    <tr>\n",
       "      <th>...</th>\n",
       "      <td>...</td>\n",
       "      <td>...</td>\n",
       "      <td>...</td>\n",
       "    </tr>\n",
       "    <tr>\n",
       "      <th>18097</th>\n",
       "      <td>Dogecoin</td>\n",
       "      <td>2021-09-17</td>\n",
       "      <td>0.2416</td>\n",
       "    </tr>\n",
       "    <tr>\n",
       "      <th>18098</th>\n",
       "      <td>Dogecoin</td>\n",
       "      <td>2021-09-18</td>\n",
       "      <td>0.2401</td>\n",
       "    </tr>\n",
       "    <tr>\n",
       "      <th>18099</th>\n",
       "      <td>Dogecoin</td>\n",
       "      <td>2021-09-19</td>\n",
       "      <td>0.2413</td>\n",
       "    </tr>\n",
       "    <tr>\n",
       "      <th>18100</th>\n",
       "      <td>Dogecoin</td>\n",
       "      <td>2021-09-20</td>\n",
       "      <td>0.2331</td>\n",
       "    </tr>\n",
       "    <tr>\n",
       "      <th>18101</th>\n",
       "      <td>Dogecoin</td>\n",
       "      <td>2021-09-21</td>\n",
       "      <td>0.2083</td>\n",
       "    </tr>\n",
       "  </tbody>\n",
       "</table>\n",
       "<p>18102 rows × 3 columns</p>\n",
       "</div>"
      ],
      "text/plain": [
       "         Asset_Name   timestamp      Close\n",
       "0      Bitcoin Cash  2018-01-01  2374.5900\n",
       "1      Bitcoin Cash  2018-01-02  2323.3200\n",
       "2      Bitcoin Cash  2018-01-03  2551.2850\n",
       "3      Bitcoin Cash  2018-01-04  2557.6467\n",
       "4      Bitcoin Cash  2018-01-05  2354.4433\n",
       "...             ...         ...        ...\n",
       "18097      Dogecoin  2021-09-17     0.2416\n",
       "18098      Dogecoin  2021-09-18     0.2401\n",
       "18099      Dogecoin  2021-09-19     0.2413\n",
       "18100      Dogecoin  2021-09-20     0.2331\n",
       "18101      Dogecoin  2021-09-21     0.2083\n",
       "\n",
       "[18102 rows x 3 columns]"
      ]
     },
     "execution_count": 48,
     "metadata": {},
     "output_type": "execute_result"
    }
   ],
   "source": [
    "df2"
   ]
  },
  {
   "cell_type": "markdown",
   "id": "496fd671",
   "metadata": {},
   "source": [
    "If we use our `value_counts()` function from earlier, we can now see the different coins we have."
   ]
  },
  {
   "cell_type": "code",
   "execution_count": 44,
   "id": "36d2d40d",
   "metadata": {},
   "outputs": [
    {
     "data": {
      "text/plain": [
       "Asset_Name\n",
       "Binance Coin        1360\n",
       "Bitcoin             1360\n",
       "Bitcoin Cash        1360\n",
       "EOS.IO              1360\n",
       "Ethereum            1360\n",
       "Ethereum Classic    1360\n",
       "Litecoin            1360\n",
       "Monero              1360\n",
       "TRON                1324\n",
       "Stellar             1314\n",
       "Cardano             1254\n",
       "IOTA                1232\n",
       "Maker               1204\n",
       "Dogecoin             894\n",
       "dtype: int64"
      ]
     },
     "execution_count": 44,
     "metadata": {},
     "output_type": "execute_result"
    }
   ],
   "source": [
    "df2.value_counts('Asset_Name')"
   ]
  },
  {
   "cell_type": "markdown",
   "id": "5dd47b29",
   "metadata": {},
   "source": [
    "We have 14 different coins, with most coins having 1360 rows (prices) for them"
   ]
  },
  {
   "cell_type": "markdown",
   "id": "2d787fe6",
   "metadata": {},
   "source": [
    "Now we can use our lovely plot function, and produce a graph for Bitcoin"
   ]
  },
  {
   "cell_type": "code",
   "execution_count": 51,
   "id": "416fe208",
   "metadata": {},
   "outputs": [
    {
     "data": {
      "text/plain": [
       "<AxesSubplot:xlabel='timestamp'>"
      ]
     },
     "execution_count": 51,
     "metadata": {},
     "output_type": "execute_result"
    },
    {
     "data": {
      "image/png": "[encoded data removed]",
      "text/plain": [
       "<Figure size 1080x648 with 1 Axes>"
      ]
     },
     "metadata": {
      "needs_background": "light"
     },
     "output_type": "display_data"
    }
   ],
   "source": [
    "bitcoin = df2[df2['Asset_Name'] == 'Bitcoin']\n",
    "bitcoin.plot(x='timestamp', y='Close')"
   ]
  },
  {
   "cell_type": "markdown",
   "id": "f4551912",
   "metadata": {},
   "source": [
    "### Your Task\n",
    "\n",
    "1. Create interesting visualisations from the data (start with looking at other coins)\n",
    "2. Come up with some interesting stats about the data (think, best ever day?)\n",
    "3. Finally, come up with whatever you want, we want to see what you can do with the data!"
   ]
  }
 ],
 "metadata": {
  "kernelspec": {
   "display_name": "Python 3 (ipykernel)",
   "language": "python",
   "name": "python3"
  },
  "language_info": {
   "codemirror_mode": {
    "name": "ipython",
    "version": 3
   },
   "file_extension": ".py",
   "mimetype": "text/x-python",
   "name": "python",
   "nbconvert_exporter": "python",
   "pygments_lexer": "ipython3",
   "version": "3.9.7"
  }
 },
 "nbformat": 4,
 "nbformat_minor": 5
}
